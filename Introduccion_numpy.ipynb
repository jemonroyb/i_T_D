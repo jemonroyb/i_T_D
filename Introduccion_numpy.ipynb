{
  "nbformat": 4,
  "nbformat_minor": 0,
  "metadata": {
    "colab": {
      "name": "Introduccion_numpy.ipynb",
      "provenance": []
    },
    "kernelspec": {
      "name": "python3",
      "display_name": "Python 3"
    },
    "language_info": {
      "name": "python"
    }
  },
  "cells": [
    {
      "cell_type": "code",
      "execution_count": null,
      "metadata": {
        "id": "EXn7MyQ0jNlz"
      },
      "outputs": [],
      "source": [
        "#Importar la librería\n",
        "import numpy as np"
      ]
    },
    {
      "cell_type": "code",
      "source": [
        "#Crear arreglos\n",
        "np.array([10, 20, 24, 5, 15, 50])"
      ],
      "metadata": {
        "colab": {
          "base_uri": "https://localhost:8080/"
        },
        "id": "jZ5kP1FQjdd3",
        "outputId": "4b179cd0-53f5-4b74-f1d5-76141084e3fa"
      },
      "execution_count": null,
      "outputs": [
        {
          "output_type": "execute_result",
          "data": {
            "text/plain": [
              "array([10, 20, 24,  5, 15, 50])"
            ]
          },
          "metadata": {},
          "execution_count": 35
        }
      ]
    },
    {
      "cell_type": "code",
      "source": [
        "#Asignar un arreglo a una variable y seleccionar el  índice 4 \n",
        "a = np.array([10, 30, 20, 4, 30, 51, 7, 2, 4, 40, 100])\n",
        "a[4]"
      ],
      "metadata": {
        "colab": {
          "base_uri": "https://localhost:8080/"
        },
        "id": "KZD3FN2cj9Mn",
        "outputId": "fc0af1c7-a1a8-47a5-fd77-82cc736a4e4b"
      },
      "execution_count": null,
      "outputs": [
        {
          "output_type": "execute_result",
          "data": {
            "text/plain": [
              "30"
            ]
          },
          "metadata": {},
          "execution_count": 27
        }
      ]
    },
    {
      "cell_type": "code",
      "source": [
        "#Conocer el tipo de dato\n",
        "type(a[2])"
      ],
      "metadata": {
        "colab": {
          "base_uri": "https://localhost:8080/"
        },
        "id": "XTfLi_U0vLGK",
        "outputId": "0e928951-d3cd-4570-f85d-e4ed19a74eee"
      },
      "execution_count": null,
      "outputs": [
        {
          "output_type": "execute_result",
          "data": {
            "text/plain": [
              "numpy.int64"
            ]
          },
          "metadata": {},
          "execution_count": 28
        }
      ]
    },
    {
      "cell_type": "code",
      "source": [
        "#Seleccionar el índice 3 hacia adelante\n",
        "a[3:]"
      ],
      "metadata": {
        "colab": {
          "base_uri": "https://localhost:8080/"
        },
        "id": "lVIPJoH8ksbq",
        "outputId": "616f48d7-530f-4b7e-aba4-ce1bd45598c6"
      },
      "execution_count": null,
      "outputs": [
        {
          "output_type": "execute_result",
          "data": {
            "text/plain": [
              "array([  4,  30,  51,   7,   2,   4,  40, 100])"
            ]
          },
          "metadata": {},
          "execution_count": 34
        }
      ]
    },
    {
      "cell_type": "code",
      "source": [
        "#Seleccionar desde el índice 3 hasta el índice 7\n",
        "a[3:7]"
      ],
      "metadata": {
        "colab": {
          "base_uri": "https://localhost:8080/"
        },
        "id": "uKGvqX-Gqgz2",
        "outputId": "bd78bf10-57bb-43aa-b6bb-09bb3d8bd62d"
      },
      "execution_count": null,
      "outputs": [
        {
          "output_type": "execute_result",
          "data": {
            "text/plain": [
              "array([ 4, 30, 51,  7])"
            ]
          },
          "metadata": {},
          "execution_count": 33
        }
      ]
    },
    {
      "cell_type": "code",
      "source": [
        "#Seleccionar desde el índice 1 cada 4 índices\n",
        "a[1::4]"
      ],
      "metadata": {
        "colab": {
          "base_uri": "https://localhost:8080/"
        },
        "id": "iakvjlJnqtiL",
        "outputId": "eb469358-3d71-4c16-db56-cd9175619064"
      },
      "execution_count": null,
      "outputs": [
        {
          "output_type": "execute_result",
          "data": {
            "text/plain": [
              "array([30, 51, 40])"
            ]
          },
          "metadata": {},
          "execution_count": 32
        }
      ]
    },
    {
      "cell_type": "code",
      "source": [
        "#Crear un arreglo de ceros\n",
        "np.zeros(5)"
      ],
      "metadata": {
        "colab": {
          "base_uri": "https://localhost:8080/"
        },
        "id": "d4ojxXzsr5r2",
        "outputId": "149e551f-081f-4c2d-fb0a-678e29752c51"
      },
      "execution_count": null,
      "outputs": [
        {
          "output_type": "execute_result",
          "data": {
            "text/plain": [
              "array([0., 0., 0., 0., 0.])"
            ]
          },
          "metadata": {},
          "execution_count": 16
        }
      ]
    },
    {
      "cell_type": "code",
      "source": [
        "#Crear un arreglo de unos de dos dimensiones \n",
        "np.ones((4, 5))"
      ],
      "metadata": {
        "colab": {
          "base_uri": "https://localhost:8080/"
        },
        "id": "wvjrOiKnsTdO",
        "outputId": "1319bcef-011b-4b28-873c-39b8e25ddfdd"
      },
      "execution_count": null,
      "outputs": [
        {
          "output_type": "execute_result",
          "data": {
            "text/plain": [
              "array([[1., 1., 1., 1., 1.],\n",
              "       [1., 1., 1., 1., 1.],\n",
              "       [1., 1., 1., 1., 1.],\n",
              "       [1., 1., 1., 1., 1.]])"
            ]
          },
          "metadata": {},
          "execution_count": 18
        }
      ]
    },
    {
      "cell_type": "code",
      "source": [
        "#Crear un arreglo de dos dimensiones\n",
        "b = np.array( [['x', 'y', 'z'], ['a', 'c', 'e']])\n",
        "print(b)"
      ],
      "metadata": {
        "colab": {
          "base_uri": "https://localhost:8080/"
        },
        "id": "3u3BmwCTxVEJ",
        "outputId": "b1df9162-40c5-476f-f04c-ac446ca7a017"
      },
      "execution_count": null,
      "outputs": [
        {
          "output_type": "stream",
          "name": "stdout",
          "text": [
            "[['x' 'y' 'z']\n",
            " ['a' 'c' 'e']]\n"
          ]
        }
      ]
    },
    {
      "cell_type": "code",
      "source": [
        "#Conocer el número de dimensiones\n",
        "b.ndim"
      ],
      "metadata": {
        "colab": {
          "base_uri": "https://localhost:8080/"
        },
        "id": "FRfZKmICxt_O",
        "outputId": "92767e38-9d4a-4708-fa2c-04987e8cc6ad"
      },
      "execution_count": null,
      "outputs": [
        {
          "output_type": "execute_result",
          "data": {
            "text/plain": [
              "2"
            ]
          },
          "metadata": {},
          "execution_count": 38
        }
      ]
    },
    {
      "cell_type": "code",
      "source": [
        "#Ordenar de menor a mayor \n",
        "c = [12, 4, 10, 40, 2]\n",
        "np.sort(c)"
      ],
      "metadata": {
        "colab": {
          "base_uri": "https://localhost:8080/"
        },
        "id": "2VQSYIoUyAhR",
        "outputId": "a6022a6d-2aff-4312-8b70-5f70857effda"
      },
      "execution_count": null,
      "outputs": [
        {
          "output_type": "execute_result",
          "data": {
            "text/plain": [
              "array([ 2,  4, 10, 12, 40])"
            ]
          },
          "metadata": {},
          "execution_count": 39
        }
      ]
    },
    {
      "cell_type": "code",
      "source": [
        "cabeceras = [ ('nombre', 'S10' ), ('edad', int) ]\n",
        "datos = [ ('Juan', 10), ('Maria', 70), ('Javier', 42), ('Samuel', 15) ]\n",
        "usuarios = np.array(datos, dtype = cabeceras)\n",
        "\n",
        "np.sort(usuarios, order = 'edad' )"
      ],
      "metadata": {
        "colab": {
          "base_uri": "https://localhost:8080/"
        },
        "id": "b_5Lip3oywAq",
        "outputId": "2e70e3db-6799-478f-95ff-5b864b56a0cb"
      },
      "execution_count": null,
      "outputs": [
        {
          "output_type": "execute_result",
          "data": {
            "text/plain": [
              "array([(b'Juan', 10), (b'Samuel', 15), (b'Javier', 42), (b'Maria', 70)],\n",
              "      dtype=[('nombre', 'S10'), ('edad', '<i8')])"
            ]
          },
          "metadata": {},
          "execution_count": 40
        }
      ]
    },
    {
      "cell_type": "code",
      "source": [
        "#Crear un arreglo dinámico de 25 elementos\n",
        "np.arange(25)"
      ],
      "metadata": {
        "colab": {
          "base_uri": "https://localhost:8080/"
        },
        "id": "LA9-8JG4zDEC",
        "outputId": "3f9b5ed2-b49d-4f3a-ce4f-eb9b8c258866"
      },
      "execution_count": null,
      "outputs": [
        {
          "output_type": "execute_result",
          "data": {
            "text/plain": [
              "array([ 0,  1,  2,  3,  4,  5,  6,  7,  8,  9, 10, 11, 12, 13, 14, 15, 16,\n",
              "       17, 18, 19, 20, 21, 22, 23, 24])"
            ]
          },
          "metadata": {},
          "execution_count": 41
        }
      ]
    },
    {
      "cell_type": "code",
      "source": [
        "#Crear un arreglo dinámico con un límite inferior y un límite superior\n",
        "np.arange(5,30)"
      ],
      "metadata": {
        "colab": {
          "base_uri": "https://localhost:8080/"
        },
        "id": "o_Yvlp_BzPtr",
        "outputId": "cbc36185-abdd-44e9-f4ff-27343b46b85c"
      },
      "execution_count": null,
      "outputs": [
        {
          "output_type": "execute_result",
          "data": {
            "text/plain": [
              "array([ 5,  6,  7,  8,  9, 10, 11, 12, 13, 14, 15, 16, 17, 18, 19, 20, 21,\n",
              "       22, 23, 24, 25, 26, 27, 28, 29])"
            ]
          },
          "metadata": {},
          "execution_count": 42
        }
      ]
    },
    {
      "cell_type": "code",
      "source": [
        "#Crear un arreglo dinámico con un límite inferior y un límite superior e incremento de 5\n",
        "np.arange(5, 50, 5)"
      ],
      "metadata": {
        "colab": {
          "base_uri": "https://localhost:8080/"
        },
        "id": "hDF4mJOxzRyW",
        "outputId": "a01df41f-fbf0-40a3-c5a7-c574f93cbe57"
      },
      "execution_count": null,
      "outputs": [
        {
          "output_type": "execute_result",
          "data": {
            "text/plain": [
              "array([ 5, 10, 15, 20, 25, 30, 35, 40, 45])"
            ]
          },
          "metadata": {},
          "execution_count": 5
        }
      ]
    },
    {
      "cell_type": "code",
      "source": [
        "#Crear un arreglo bidimensional de 3 filas y 5 columnas y el único valor 10\n",
        "\n",
        "np.full( ( 3, 5 ), 10)"
      ],
      "metadata": {
        "colab": {
          "base_uri": "https://localhost:8080/"
        },
        "id": "AMXuG7HlzTdA",
        "outputId": "59311a31-53c4-4e3d-e135-d68bb6e4a23a"
      },
      "execution_count": null,
      "outputs": [
        {
          "output_type": "execute_result",
          "data": {
            "text/plain": [
              "array([[10, 10, 10, 10, 10],\n",
              "       [10, 10, 10, 10, 10],\n",
              "       [10, 10, 10, 10, 10]])"
            ]
          },
          "metadata": {},
          "execution_count": 44
        }
      ]
    },
    {
      "cell_type": "code",
      "source": [
        "#Crear un diagonal de arreglo tipo bidimensional\n",
        "np.diag ( [0, 3, 9, 10] )"
      ],
      "metadata": {
        "colab": {
          "base_uri": "https://localhost:8080/"
        },
        "id": "1BW5vTVOzVV-",
        "outputId": "b86dfede-b0a6-41f9-d635-67505b853913"
      },
      "execution_count": null,
      "outputs": [
        {
          "output_type": "execute_result",
          "data": {
            "text/plain": [
              "array([[ 0,  0,  0,  0],\n",
              "       [ 0,  3,  0,  0],\n",
              "       [ 0,  0,  9,  0],\n",
              "       [ 0,  0,  0, 10]])"
            ]
          },
          "metadata": {},
          "execution_count": 45
        }
      ]
    },
    {
      "cell_type": "code",
      "source": [
        "#Operaciones sobre arreglos\n",
        "# Aritmética\n",
        "a = np.arange(4)\n",
        "\n",
        "print(\"a     =\", a)\n",
        "print(\"a + 5 =\", a + 5)\n",
        "print(\"a - 5 =\", a - 5)\n",
        "print(\"a * 2 =\", a * 2)\n",
        "print(\"a / 2 =\", a / 2)\n",
        "print(\"a // 2 =\", a // 2)  \n",
        "print(\"-a     = \", -a)\n",
        "print(\"a ** 2 = \", a ** 2)\n",
        "print(\"a % 2  = \", a % 2)"
      ],
      "metadata": {
        "colab": {
          "base_uri": "https://localhost:8080/"
        },
        "id": "oGnPLo-I11PC",
        "outputId": "5b8a1773-d4ec-4597-f331-2d6eb3f1eab3"
      },
      "execution_count": null,
      "outputs": [
        {
          "output_type": "stream",
          "name": "stdout",
          "text": [
            "a     = [0 1 2 3]\n",
            "a + 5 = [5 6 7 8]\n",
            "a - 5 = [-5 -4 -3 -2]\n",
            "a * 2 = [0 2 4 6]\n",
            "a / 2 = [0.  0.5 1.  1.5]\n",
            "a // 2 = [0 0 1 1]\n",
            "-a     =  [ 0 -1 -2 -3]\n",
            "a ** 2 =  [0 1 4 9]\n",
            "a % 2  =  [0 1 0 1]\n"
          ]
        }
      ]
    },
    {
      "cell_type": "code",
      "source": [
        "#Estadística\n",
        "a = np.arange(10)\n",
        "\n",
        "print(np.mean(a))           # media (promedio)\n",
        "print(np.median(a))         # mediana \n",
        "print(np.var(a))            # varianza\n",
        "print(np.std(a))            # desviación estándar"
      ],
      "metadata": {
        "colab": {
          "base_uri": "https://localhost:8080/"
        },
        "id": "l9c2xblz2NIg",
        "outputId": "3e9c46e2-0daa-4959-f57a-7cacc9113504"
      },
      "execution_count": null,
      "outputs": [
        {
          "output_type": "stream",
          "name": "stdout",
          "text": [
            "4.5\n",
            "4.5\n",
            "8.25\n",
            "2.8722813232690143\n"
          ]
        }
      ]
    },
    {
      "cell_type": "code",
      "source": [
        "a=np.array([1,8,7,9,5])\n",
        "print(\"Media:\",np.mean(a))\n",
        "print(\"Mediana\",np.median(a))\n"
      ],
      "metadata": {
        "colab": {
          "base_uri": "https://localhost:8080/"
        },
        "id": "l8n2xfvz4GDF",
        "outputId": "77b075d7-dce4-4c47-b0b5-22f269699dba"
      },
      "execution_count": null,
      "outputs": [
        {
          "output_type": "stream",
          "name": "stdout",
          "text": [
            "Media: 6.0\n",
            "Mediana 7.0\n"
          ]
        }
      ]
    },
    {
      "cell_type": "code",
      "source": [
        "\n",
        "# Numpy no puede obtener la moda\n",
        "from scipy import stats as st\n",
        "\n",
        "edades = [21, 17, 89, 76, 32, 21, 45, 21, 89, 21, 15, 89, 21]\n",
        "\n",
        "moda=st.mode(edades)\n",
        "\n",
        "display(moda)"
      ],
      "metadata": {
        "colab": {
          "base_uri": "https://localhost:8080/",
          "height": 34
        },
        "id": "sa701PGo4iu7",
        "outputId": "37289503-c7e1-40c2-d62b-c74ecc86291e"
      },
      "execution_count": null,
      "outputs": [
        {
          "output_type": "display_data",
          "data": {
            "text/plain": [
              "ModeResult(mode=array([21]), count=array([5]))"
            ]
          },
          "metadata": {}
        }
      ]
    }
  ]
}